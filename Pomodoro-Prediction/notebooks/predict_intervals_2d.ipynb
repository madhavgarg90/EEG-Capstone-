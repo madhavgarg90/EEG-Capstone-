{
 "cells": [
  {
   "cell_type": "code",
   "execution_count": null,
   "id": "0",
   "metadata": {},
   "outputs": [],
   "source": [
    "import time\n",
    "import joblib\n",
    "import nbimporter\n",
    "from tensorflow.keras.models import load_model\n",
    "\n",
    "from feature_extraction import compute_bandpower, compute_stat_features"
   ]
  },
  {
   "cell_type": "code",
   "execution_count": null,
   "id": "1",
   "metadata": {},
   "outputs": [],
   "source": [
    "sf = 128 # Hz\n",
    "window_size = 10 # seconds\n",
    "model = load_model('../models/lstm.keras')\n",
    "scalar = joblib.load('../models/scalar_2d.pkl')"
   ]
  },
  {
   "cell_type": "code",
   "execution_count": null,
   "id": "2",
   "metadata": {},
   "outputs": [],
   "source": [
    "matrix = []\n",
    "start_time = time.time()\n",
    "\n",
    "while time.time() - start_time <= 60:\n",
    "    row = []\n",
    "    window = []\n",
    "    window_start = time.time()\n",
    "\n",
    "    while time.time() - window_start <= window_size:\n",
    "        time.sleep(1/128)\n",
    "        sample, _ = inlet.pull_sample()\n",
    "        window.append(sample)\n",
    "\n",
    "    window = np.array(window)\n",
    "\n",
    "    for col in range(0, window.shape[1]):\n",
    "        channel = window[:, col]\n",
    "        theta = compute_bandpower(channel, 'theta')\n",
    "        alpha = compute_bandpower(channel, 'alpha')\n",
    "        beta = compute_bandpower(channel, 'beta')\n",
    "        gamma = compute_bandpower(channel, 'gamma')\n",
    "\n",
    "        beta_alpha_ratio = beta/alpha if alpha!=0 else 0\n",
    "\n",
    "        mean, std, skewness, kurtosis, entropy = compute_stat_features(channel)\n",
    "\n",
    "        row.extend([theta, alpha, beta, gamma, beta_alpha_ratio, mean, std, skewness, kurtosis, entropy])\n",
    "\n",
    "    matrix.append(row)\n",
    "\n",
    "matrix = scalar.transform(matrix)\n",
    "matrix = np.array(matrix).reshape(1, 6, 320)\n",
    "\n",
    "prediction = model.predict(matrix)\n",
    "focus = int(np.round(prediction))\n",
    "\n",
    "if focus == 1:\n",
    "    output = 2\n",
    "\n",
    "else:\n",
    "    output = 0"
   ]
  }
 ],
 "metadata": {
  "kernelspec": {
   "display_name": ".venv",
   "language": "python",
   "name": "python3"
  },
  "language_info": {
   "codemirror_mode": {
    "name": "ipython",
    "version": 3
   },
   "file_extension": ".py",
   "mimetype": "text/x-python",
   "name": "python",
   "nbconvert_exporter": "python",
   "pygments_lexer": "ipython3",
   "version": "3.11.9"
  }
 },
 "nbformat": 4,
 "nbformat_minor": 5
}
